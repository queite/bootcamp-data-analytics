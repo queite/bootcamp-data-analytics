{
  "nbformat": 4,
  "nbformat_minor": 0,
  "metadata": {
    "colab": {
      "provenance": [],
      "toc_visible": true,
      "collapsed_sections": [
        "2o0ngcLOxax7",
        "C7kosHYnABnW",
        "9uODr-l2GJoN",
        "pl105vrG6hng",
        "s7Z0vu79INWa",
        "5jm6RmPHZ3TG",
        "IJ9UBqcifW6Q",
        "I44U8kHOxsaF"
      ],
      "authorship_tag": "ABX9TyMZr6gPb0XrCWRcY+eKutar",
      "include_colab_link": true
    },
    "kernelspec": {
      "name": "python3",
      "display_name": "Python 3"
    },
    "language_info": {
      "name": "python"
    }
  },
  "cells": [
    {
      "cell_type": "markdown",
      "metadata": {
        "id": "view-in-github",
        "colab_type": "text"
      },
      "source": [
        "<a href=\"https://colab.research.google.com/github/queite/bootcamp-data-analytics/blob/main/Desafio_Python_Pandas.ipynb\" target=\"_parent\"><img src=\"https://colab.research.google.com/assets/colab-badge.svg\" alt=\"Open In Colab\"/></a>"
      ]
    },
    {
      "cell_type": "markdown",
      "source": [
        "# Bilbiotecas"
      ],
      "metadata": {
        "id": "2o0ngcLOxax7"
      }
    },
    {
      "cell_type": "code",
      "source": [
        "import pandas as pd"
      ],
      "metadata": {
        "id": "X1G0w3bM9Km9"
      },
      "execution_count": null,
      "outputs": []
    },
    {
      "cell_type": "code",
      "source": [
        "!pip install pydataset"
      ],
      "metadata": {
        "id": "i02F8Rv9-17R"
      },
      "execution_count": null,
      "outputs": []
    },
    {
      "cell_type": "code",
      "source": [
        "from google.colab import data_table\n",
        "data_table.enable_dataframe_formatter()\n",
        "data_table.max_columns = 40"
      ],
      "metadata": {
        "id": "8jNVTsT5BH-j"
      },
      "execution_count": null,
      "outputs": []
    },
    {
      "cell_type": "code",
      "source": [
        "import pydataset"
      ],
      "metadata": {
        "id": "dVLns1VT_Hbn"
      },
      "execution_count": null,
      "outputs": []
    },
    {
      "cell_type": "code",
      "source": [
        "import matplotlib.pyplot as plt"
      ],
      "metadata": {
        "id": "-hl1uGZV6CZW"
      },
      "execution_count": null,
      "outputs": []
    },
    {
      "cell_type": "code",
      "source": [
        "import numpy as np"
      ],
      "metadata": {
        "id": "pS_JMONUqMTn"
      },
      "execution_count": null,
      "outputs": []
    },
    {
      "cell_type": "markdown",
      "source": [
        "# Desafio 1 - Importando dataset\n"
      ],
      "metadata": {
        "id": "C7kosHYnABnW"
      }
    },
    {
      "cell_type": "code",
      "execution_count": null,
      "metadata": {
        "id": "NS0Kr-IJpXaa"
      },
      "outputs": [],
      "source": [
        "plant_traits = pydataset.data('plantTraits')\n",
        "plant_traits.head()"
      ]
    },
    {
      "cell_type": "code",
      "source": [
        "type(plant_traits)"
      ],
      "metadata": {
        "id": "bFKSklc-_iM4"
      },
      "execution_count": null,
      "outputs": []
    },
    {
      "cell_type": "code",
      "source": [
        "plant_traits.shape"
      ],
      "metadata": {
        "id": "AlqjjWAvDGVH"
      },
      "execution_count": null,
      "outputs": []
    },
    {
      "cell_type": "code",
      "source": [
        "def get_rows_columns_qtd(dataframe):\n",
        "    return (f'''Rows: {dataframe.shape[0]}'\n",
        "        Columns: {dataframe.shape[1]}''')\n",
        "\n",
        "get_rows_columns_qtd(plant_traits)"
      ],
      "metadata": {
        "id": "dWsRTuXGEI1y"
      },
      "execution_count": null,
      "outputs": []
    },
    {
      "cell_type": "markdown",
      "source": [
        "# Desafio 2: Conversão"
      ],
      "metadata": {
        "id": "9uODr-l2GJoN"
      }
    },
    {
      "cell_type": "code",
      "source": [
        "women = pydataset.data('women')"
      ],
      "metadata": {
        "id": "rbPtMfidGOWM"
      },
      "execution_count": null,
      "outputs": []
    },
    {
      "cell_type": "code",
      "source": [
        "women.head()"
      ],
      "metadata": {
        "id": "0AP0k9IrHFMh"
      },
      "execution_count": null,
      "outputs": []
    },
    {
      "cell_type": "code",
      "source": [
        "new_women = women.rename(columns={'height':'altura', 'weight': 'peso'})"
      ],
      "metadata": {
        "id": "tIGXLYYy0xh2"
      },
      "execution_count": null,
      "outputs": []
    },
    {
      "cell_type": "code",
      "source": [
        "new_women.mul({'altura':2.54, 'peso':0.45}).head()"
      ],
      "metadata": {
        "id": "dtFfLlo11YUD"
      },
      "execution_count": null,
      "outputs": []
    },
    {
      "cell_type": "code",
      "source": [
        "new_women.plot.scatter(x='altura', y='peso')\n",
        "plt.show()"
      ],
      "metadata": {
        "id": "vle7TxOc5NVz"
      },
      "execution_count": null,
      "outputs": []
    },
    {
      "cell_type": "markdown",
      "source": [
        "# Desafio 3: Titanic"
      ],
      "metadata": {
        "id": "pl105vrG6hng"
      }
    },
    {
      "cell_type": "code",
      "source": [
        "titanic = pydataset.data('titanic')\n",
        "titanic.head()"
      ],
      "metadata": {
        "id": "_H3QAE8A6nX4"
      },
      "execution_count": null,
      "outputs": []
    },
    {
      "cell_type": "code",
      "source": [
        "# 1. Quantas pessoas sobreviveram e quantas morreram?\n",
        "titanic.value_counts(subset='survived')"
      ],
      "metadata": {
        "id": "LU2ipDNK7-Re"
      },
      "execution_count": null,
      "outputs": []
    },
    {
      "cell_type": "code",
      "source": [
        "# 2. Quantas pessoas eram da primeira, segunda e terceira classe?\n",
        "titanic.value_counts(subset='class')"
      ],
      "metadata": {
        "id": "aDD555Wy8qxm"
      },
      "execution_count": null,
      "outputs": []
    },
    {
      "cell_type": "code",
      "source": [
        "# 3. Qual a porcentagem de sobreviventes na primeira classe?\n",
        "all_first_class = titanic[titanic['class'] == '1st class']\n",
        "survived_first_class = titanic.loc[(titanic['class'] == '1st class') & (titanic['survived'] == 'yes')]\n",
        "perc = survived_first_class.shape[0] / all_first_class.shape[0] * 100\n",
        "round(perc, 2)"
      ],
      "metadata": {
        "id": "05MItHxO844j"
      },
      "execution_count": null,
      "outputs": []
    },
    {
      "cell_type": "code",
      "source": [
        "# 4. Qual a porcentagem de mortos da terceira classe?\n",
        "all_3rd_class = titanic[titanic['class'] == '3rd class']\n",
        "dead_3rd_class = titanic[(titanic['class'] == '3rd class') & (titanic['survived'] == 'no')]\n",
        "perc = dead_3rd_class.shape[0] / all_3rd_class.shape[0] * 100\n",
        "round(perc, 2)"
      ],
      "metadata": {
        "id": "qy3jkdi2FN73"
      },
      "execution_count": null,
      "outputs": []
    },
    {
      "cell_type": "markdown",
      "source": [
        "# Desafio 4: Futebol"
      ],
      "metadata": {
        "id": "s7Z0vu79INWa"
      }
    },
    {
      "cell_type": "code",
      "source": [
        "bundesliga = pydataset.data('Bundesliga')\n",
        "bundesliga.head()"
      ],
      "metadata": {
        "id": "tEAz3BlwIPaX"
      },
      "execution_count": null,
      "outputs": []
    },
    {
      "cell_type": "code",
      "source": [
        "bundesliga['TotalGols'] = bundesliga['HomeGoals'] + bundesliga['AwayGoals']\n",
        "bundesliga.loc[bundesliga['TotalGols'].idxmax()]"
      ],
      "metadata": {
        "id": "HIMicj0yS2fy"
      },
      "execution_count": null,
      "outputs": []
    },
    {
      "cell_type": "code",
      "source": [
        "bundesliga.drop(columns='TotalPoints', inplace=True) # Para exemplo"
      ],
      "metadata": {
        "id": "-qqILrvzXUmC"
      },
      "execution_count": null,
      "outputs": []
    },
    {
      "cell_type": "code",
      "source": [
        "bundesliga.insert(4, 'TotalGoals', bundesliga['HomeGoals'] + bundesliga['AwayGoals'])"
      ],
      "metadata": {
        "id": "UMqdoMI-W3Pf"
      },
      "execution_count": null,
      "outputs": []
    },
    {
      "cell_type": "code",
      "source": [
        "bundesliga.head()"
      ],
      "metadata": {
        "id": "shEKNiRfZLFI"
      },
      "execution_count": null,
      "outputs": []
    },
    {
      "cell_type": "code",
      "source": [
        "bundesliga.loc[bundesliga['TotalGoals'].idxmax()]"
      ],
      "metadata": {
        "id": "iOot_CdLY0Kj"
      },
      "execution_count": null,
      "outputs": []
    },
    {
      "cell_type": "markdown",
      "source": [
        "# Desafio 5: Forbes"
      ],
      "metadata": {
        "id": "5jm6RmPHZ3TG"
      }
    },
    {
      "cell_type": "code",
      "source": [
        "forbes = pydataset.data('Forbes2000')"
      ],
      "metadata": {
        "id": "ZdvjZqELZ7_x"
      },
      "execution_count": null,
      "outputs": []
    },
    {
      "cell_type": "code",
      "source": [
        "forbes.head()"
      ],
      "metadata": {
        "id": "aFitPXm2aOTe"
      },
      "execution_count": null,
      "outputs": []
    },
    {
      "cell_type": "code",
      "source": [
        "# 1. Qual a empresa mais valiosa da lista da Forbes 2000?\n",
        "forbes.loc[forbes['marketvalue'].idxmax()]"
      ],
      "metadata": {
        "id": "zYPdiFm6aPhJ"
      },
      "execution_count": null,
      "outputs": []
    },
    {
      "cell_type": "code",
      "source": [
        "# 2. Construa uma tabela com as TOP 10 empresas mais lucrativas da lista.\n",
        "forbes.nlargest(10, 'profits')"
      ],
      "metadata": {
        "id": "LCMPJf7EbNtE"
      },
      "execution_count": null,
      "outputs": []
    },
    {
      "cell_type": "markdown",
      "source": [
        "##  3. Qual a média de valores de empresa das cinco categorias mais valiosas?"
      ],
      "metadata": {
        "id": "2Vex9qQRqhEm"
      }
    },
    {
      "cell_type": "code",
      "source": [
        "most valuable categories = forbes.groupby(by='category').sum('marketvalue').nlargest(5, 'marketvalue')\n",
        "df"
      ],
      "metadata": {
        "id": "GKsm2C5HoR16"
      },
      "execution_count": null,
      "outputs": []
    },
    {
      "cell_type": "code",
      "source": [
        "most_valuable_categories = df.index.unique().tolist()\n",
        "most_valuable_categories"
      ],
      "metadata": {
        "id": "bRlIRUAnrCmA"
      },
      "execution_count": null,
      "outputs": []
    },
    {
      "cell_type": "code",
      "source": [
        "means = forbes.groupby('category')['marketvalue'].mean().round(2)\n",
        "means"
      ],
      "metadata": {
        "id": "tVTG3dvarWc8"
      },
      "execution_count": null,
      "outputs": []
    },
    {
      "cell_type": "code",
      "source": [
        "for category in most_valuable_categories:\n",
        "    if category in means:\n",
        "        print(means[[category]].to_string(header=False))   "
      ],
      "metadata": {
        "id": "Y9Te4zurrqLS"
      },
      "execution_count": null,
      "outputs": []
    },
    {
      "cell_type": "markdown",
      "source": [
        "# Desafio 6: Rendimento Ações"
      ],
      "metadata": {
        "id": "IJ9UBqcifW6Q"
      }
    },
    {
      "cell_type": "code",
      "source": [
        "jj_earnings = pydataset.data('JohnsonJohnson')\n",
        "jj_earnings.head()"
      ],
      "metadata": {
        "id": "_3e8d54gfeRa"
      },
      "execution_count": null,
      "outputs": []
    },
    {
      "cell_type": "code",
      "source": [
        "jj_earnings['year'] = jj_earnings['time'].astype(str).str.split('.').str[0]\n",
        "jj_earnings.head()"
      ],
      "metadata": {
        "id": "PpPeaNyTZ5gH"
      },
      "execution_count": null,
      "outputs": []
    },
    {
      "cell_type": "code",
      "source": [
        "#Agregar os rendimentos de um mesmo ano\n",
        "yearly_jj_earnings = jj_earnings.groupby('year').sum().round(2)\n",
        "yearly_jj_earnings.drop(columns='time', inplace=True)\n",
        "yearly_jj_earnings.head()"
      ],
      "metadata": {
        "id": "6a1Ls3ehdKEC"
      },
      "execution_count": null,
      "outputs": []
    },
    {
      "cell_type": "code",
      "source": [
        "yearly_jj_earnings['previous'] = yearly_jj_earnings['JohnsonJohnson'].shift()\n",
        "yearly_jj_earnings.head()"
      ],
      "metadata": {
        "id": "F_TP3nT-uKfR"
      },
      "execution_count": null,
      "outputs": []
    },
    {
      "cell_type": "code",
      "source": [
        "# Calcular a valorização do rendimento de um ano para outro\n",
        "yearly_jj_earnings['valorizacao'] = (yearly_jj_earnings['JohnsonJohnson'] - yearly_jj_earnings['previous']) / yearly_jj_earnings['previous'] * 100\n",
        "yearly_jj_earnings.round(2).head()"
      ],
      "metadata": {
        "id": "gG8iangKuq6o"
      },
      "execution_count": null,
      "outputs": []
    },
    {
      "cell_type": "code",
      "source": [
        "# .Informar o ano de maior rentabilidade\n",
        "yearly_jj_earnings['valorizacao'].idxmax()"
      ],
      "metadata": {
        "id": "WmQcZsTPwAXr"
      },
      "execution_count": null,
      "outputs": []
    },
    {
      "cell_type": "markdown",
      "source": [
        "# Desafio 7: Condições de Moradia"
      ],
      "metadata": {
        "id": "I44U8kHOxsaF"
      }
    },
    {
      "cell_type": "code",
      "source": [
        "pydataset.data('housing', show_doc=True)"
      ],
      "metadata": {
        "id": "SJKu5F1rxwFN"
      },
      "execution_count": null,
      "outputs": []
    },
    {
      "cell_type": "code",
      "source": [
        "housing = pydataset.data('housing')\n",
        "housing"
      ],
      "metadata": {
        "id": "j_oW-fdnycx8"
      },
      "execution_count": null,
      "outputs": []
    },
    {
      "cell_type": "code",
      "source": [
        "#1. Em quantas medições, em média, as pessoas da base estava em situação de rua?\n",
        "reg_sit_rua = housing['y'] == 0\n",
        "rua_true = housing[reg_sit_rua]\n",
        "rua_true"
      ],
      "metadata": {
        "id": "EnZ71LUcs2DG"
      },
      "execution_count": null,
      "outputs": []
    },
    {
      "cell_type": "code",
      "source": [
        "rua_true.groupby('id')['y'].count().mean()"
      ],
      "metadata": {
        "id": "Zb-2JWyqtOzg"
      },
      "execution_count": null,
      "outputs": []
    },
    {
      "cell_type": "code",
      "source": [
        "#2. Qual a proporção de moradores que estiveram inscritos em Section 8 em algum momento?\n",
        "sec_true = housing['sec'] == 1\n",
        "sec_true"
      ],
      "metadata": {
        "id": "S3w5Luogr5iX"
      },
      "execution_count": null,
      "outputs": []
    },
    {
      "cell_type": "code",
      "source": [
        "housing2 = housing[sec_true]\n",
        "housing2.shape"
      ],
      "metadata": {
        "id": "-zwc0e-zwQzK"
      },
      "execution_count": null,
      "outputs": []
    },
    {
      "cell_type": "code",
      "source": [
        "housing2.groupby('id').count().shape[0]"
      ],
      "metadata": {
        "id": "vhiLdCMiweL2"
      },
      "execution_count": null,
      "outputs": []
    },
    {
      "cell_type": "code",
      "source": [
        "perc = (housing2.groupby('id').count().shape[0] / housing.groupby('id').count().shape[0]) * 100\n",
        "perc"
      ],
      "metadata": {
        "id": "Ji8Ne3O5wvA9"
      },
      "execution_count": null,
      "outputs": []
    },
    {
      "cell_type": "code",
      "source": [
        "# 3. Quantas pessoas estiveram 100% do tempo em situação de rua\n",
        "rua = housing['y'] == 0\n",
        "housing_em_rua = housing[rua]\n",
        "total_rua = housing_em_rua.groupby('id')['y'].sum()"
      ],
      "metadata": {
        "id": "5big2QJPykQQ"
      },
      "execution_count": null,
      "outputs": []
    },
    {
      "cell_type": "code",
      "source": [
        "total_rua.value_counts()[4.0]"
      ],
      "metadata": {
        "id": "bB-JFA0ZykTk"
      },
      "execution_count": null,
      "outputs": []
    },
    {
      "cell_type": "code",
      "source": [
        "# 4. Qual percentual das pessoas apresentaram uma melhora de condições de moradia no final do estudo?\n",
        "medicoes = housing.pivot(index='id', columns='time', values='y')\n",
        "medicoes.head()"
      ],
      "metadata": {
        "id": "Rvcj0Nk8yvmJ"
      },
      "execution_count": null,
      "outputs": []
    },
    {
      "cell_type": "code",
      "source": [
        "medicoes.shape"
      ],
      "metadata": {
        "id": "5n_QxpSIJVWn"
      },
      "execution_count": null,
      "outputs": []
    },
    {
      "cell_type": "code",
      "source": [
        "medicoes_com_melhora = medicoes.loc[medicoes[0] < medicoes[24]]\n",
        "medicoes_com_melhora.shape"
      ],
      "metadata": {
        "id": "RjFK7hFTFnDC"
      },
      "execution_count": null,
      "outputs": []
    },
    {
      "cell_type": "code",
      "source": [
        "perc_melhor_condicoes = (medicoes_com_melhora.shape[0] / medicoes.shape[0]) *100\n",
        "round(perc_melhor_condicoes, 2)"
      ],
      "metadata": {
        "id": "uj_Af-gJJJdz"
      },
      "execution_count": null,
      "outputs": []
    },
    {
      "cell_type": "markdown",
      "source": [
        "# Desafio 8: Suicídios"
      ],
      "metadata": {
        "id": "v6A1ySC2KMwm"
      }
    },
    {
      "cell_type": "code",
      "source": [
        "pydataset.data('Suicide', show_doc=True)"
      ],
      "metadata": {
        "id": "jidBA3DeK_ng"
      },
      "execution_count": null,
      "outputs": []
    },
    {
      "cell_type": "code",
      "source": [
        "suicide = pydataset.data('Suicide')\n",
        "suicide"
      ],
      "metadata": {
        "id": "dJ2ZksE2KOjK"
      },
      "execution_count": null,
      "outputs": []
    },
    {
      "cell_type": "code",
      "source": [
        "# Crie uma função que ao informar o sexo e a faixa etária de um suícidio\n",
        "# é retornado as probabilidades do método utilizado.\n",
        "def suicide_method_prob(sex, age_group):\n",
        "    total_freq = suicide.groupby(['age.group', 'sex'], as_index=False)['Freq'].sum()\n",
        "    selected_total_freq = total_freq[(total_freq['age.group'] == age_group)\n",
        "        & (total_freq['sex'] == sex)].get('Freq')\n",
        "    freq_by_method = suicide.groupby(['age.group', 'sex', 'method2'], as_index=False)['Freq'].sum()\n",
        "    selected_data = freq_by_method[(freq_by_method['age.group'] == age_group) & (freq_by_method['sex'] == sex)]\n",
        "    prob_suicide = pd.DataFrame()\n",
        "    prob_suicide['Method'] = selected_data['method2']\n",
        "    prob_suicide['Prob'] = selected_data['Freq'] / int(selected_total_freq)\n",
        "    return prob_suicide"
      ],
      "metadata": {
        "id": "yDIYvzNyH24S"
      },
      "execution_count": null,
      "outputs": []
    },
    {
      "cell_type": "code",
      "source": [
        "suicide_method_prob('female', '10-20')"
      ],
      "metadata": {
        "id": "Mfo4QUsG9SvV"
      },
      "execution_count": null,
      "outputs": []
    },
    {
      "cell_type": "code",
      "source": [
        "1# Com auxílio da função input() faça a chamada da função do item 1. (a ideia é simular uma interface amigável)\n",
        "sex_option = {\n",
        "    1: 'female',\n",
        "    2: 'male'\n",
        "}\n",
        "\n",
        "age_group_options = {\n",
        "    1: '10-20',\n",
        "    2: '25-35',\n",
        "    3: '40-50',\n",
        "    4: '55-65',\n",
        "    5: '70-90',\n",
        "}\n",
        "\n",
        "sex = int(input('Choose gender writing a number: \\n 1 - female \\n 2 - male \\n'))\n",
        "print('\\n')\n",
        "age_group = int(input('''Choose age group writing a number:\n",
        "    1 - 10-20\n",
        "    2 - 25-35\n",
        "    3 - 40-50\n",
        "    4 - 55-65\n",
        "    5 - 70-90\n",
        "    '''))\n",
        "\n",
        "print('\\n')\n",
        "print(suicide_method_prob(sex_option[sex], age_group_options[age_group]))"
      ],
      "metadata": {
        "id": "YsLIBXzI-G4M"
      },
      "execution_count": null,
      "outputs": []
    }
  ]
}